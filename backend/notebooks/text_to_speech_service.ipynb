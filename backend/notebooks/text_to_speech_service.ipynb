{
 "cells": [
  {
   "cell_type": "code",
   "execution_count": null,
   "metadata": {},
   "outputs": [],
   "source": [
    "from gtts import gTTS"
   ]
  },
  {
   "cell_type": "code",
   "execution_count": 2,
   "metadata": {},
   "outputs": [],
   "source": [
    "text = \"This chapter begins with a discussion of the historical context and progress of natural language processing, beginning with the origins of human linguistic capabilities. This chapter explains the gradual transition to computational language modeling, emphasizing the importance of the intricate interplay between biology and technology. The evolution of language models in computational domains is presented in the coherent timeline, showcasing how rudimentary models transformed into the sophisticated LLMs that we are familiar with today. The critical factors influencing this transformative journey, including algorithmic advancements, computational power and data availability are discussed. LLMs are defined and delineated, ensuring that the reader grasps their significance in contemporary AI paradigms. The chapter concludes with an overview of the subsequent chapters, enabling the reader to anticipate the breadth and depth of the topics covered throughout the book.\""
   ]
  },
  {
   "cell_type": "code",
   "execution_count": null,
   "metadata": {},
   "outputs": [],
   "source": [
    "tts = gTTS(text=text, lang=\"en\", slow=False)"
   ]
  },
  {
   "cell_type": "code",
   "execution_count": 4,
   "metadata": {},
   "outputs": [],
   "source": [
    "# Save the converted audio to a file\n",
    "tts.save(\"../assets/sample_text_to_speach.mp3\")"
   ]
  }
 ],
 "metadata": {
  "kernelspec": {
   "display_name": "venv",
   "language": "python",
   "name": "python3"
  },
  "language_info": {
   "codemirror_mode": {
    "name": "ipython",
    "version": 3
   },
   "file_extension": ".py",
   "mimetype": "text/x-python",
   "name": "python",
   "nbconvert_exporter": "python",
   "pygments_lexer": "ipython3",
   "version": "3.11.10"
  }
 },
 "nbformat": 4,
 "nbformat_minor": 2
}
